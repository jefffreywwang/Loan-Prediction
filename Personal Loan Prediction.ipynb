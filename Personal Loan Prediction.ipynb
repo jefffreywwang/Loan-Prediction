{
 "cells": [
  {
   "cell_type": "code",
   "execution_count": 185,
   "metadata": {
    "scrolled": true
   },
   "outputs": [
    {
     "data": {
      "text/html": [
       "<style  type=\"text/css\" >\n",
       "    #T_4fad9a58_bb40_11eb_8a10_b46921082c52row0_col2 {\n",
       "            background-color:  lightgreen;\n",
       "        }    #T_4fad9a58_bb40_11eb_8a10_b46921082c52row1_col1 {\n",
       "            background-color:  lightgreen;\n",
       "        }</style><table id=\"T_4fad9a58_bb40_11eb_8a10_b46921082c52\" ><thead>    <tr>        <th class=\"blank level0\" ></th>        <th class=\"col_heading level0 col0\" >Model</th>        <th class=\"col_heading level0 col1\" >Accuracy</th>        <th class=\"col_heading level0 col2\" >Recall</th>    </tr></thead><tbody>\n",
       "                <tr>\n",
       "                        <th id=\"T_4fad9a58_bb40_11eb_8a10_b46921082c52level0_row0\" class=\"row_heading level0 row0\" >0</th>\n",
       "                        <td id=\"T_4fad9a58_bb40_11eb_8a10_b46921082c52row0_col0\" class=\"data row0 col0\" >Random Forests</td>\n",
       "                        <td id=\"T_4fad9a58_bb40_11eb_8a10_b46921082c52row0_col1\" class=\"data row0 col1\" >0.9777</td>\n",
       "                        <td id=\"T_4fad9a58_bb40_11eb_8a10_b46921082c52row0_col2\" class=\"data row0 col2\" >0.979</td>\n",
       "            </tr>\n",
       "            <tr>\n",
       "                        <th id=\"T_4fad9a58_bb40_11eb_8a10_b46921082c52level0_row1\" class=\"row_heading level0 row1\" >1</th>\n",
       "                        <td id=\"T_4fad9a58_bb40_11eb_8a10_b46921082c52row1_col0\" class=\"data row1 col0\" >SVM</td>\n",
       "                        <td id=\"T_4fad9a58_bb40_11eb_8a10_b46921082c52row1_col1\" class=\"data row1 col1\" >0.9979</td>\n",
       "                        <td id=\"T_4fad9a58_bb40_11eb_8a10_b46921082c52row1_col2\" class=\"data row1 col2\" >0</td>\n",
       "            </tr>\n",
       "            <tr>\n",
       "                        <th id=\"T_4fad9a58_bb40_11eb_8a10_b46921082c52level0_row2\" class=\"row_heading level0 row2\" >2</th>\n",
       "                        <td id=\"T_4fad9a58_bb40_11eb_8a10_b46921082c52row2_col0\" class=\"data row2 col0\" >CART</td>\n",
       "                        <td id=\"T_4fad9a58_bb40_11eb_8a10_b46921082c52row2_col1\" class=\"data row2 col1\" >0.9121</td>\n",
       "                        <td id=\"T_4fad9a58_bb40_11eb_8a10_b46921082c52row2_col2\" class=\"data row2 col2\" >0.839</td>\n",
       "            </tr>\n",
       "            <tr>\n",
       "                        <th id=\"T_4fad9a58_bb40_11eb_8a10_b46921082c52level0_row3\" class=\"row_heading level0 row3\" >3</th>\n",
       "                        <td id=\"T_4fad9a58_bb40_11eb_8a10_b46921082c52row3_col0\" class=\"data row3 col0\" >ANN</td>\n",
       "                        <td id=\"T_4fad9a58_bb40_11eb_8a10_b46921082c52row3_col1\" class=\"data row3 col1\" >0.9007</td>\n",
       "                        <td id=\"T_4fad9a58_bb40_11eb_8a10_b46921082c52row3_col2\" class=\"data row3 col2\" >0</td>\n",
       "            </tr>\n",
       "    </tbody></table>"
      ],
      "text/plain": [
       "<pandas.io.formats.style.Styler at 0x14ca91110c8>"
      ]
     },
     "execution_count": 185,
     "metadata": {},
     "output_type": "execute_result"
    }
   ],
   "source": [
    "#For creating table for comparing the performance of the four algorithems used\n",
    "from IPython.display import HTML\n",
    "dta = [['Random Forests', 0.9777,0.979], ['SVM', 0.9979,0], ['CART', 0.9121,0.839],['ANN',0.9007,0]]\n",
    "df = pd.DataFrame(dta, columns = ['Model', 'Accuracy','Recall'])\n",
    "# Set CSS properties for th elements in dataframe\n",
    "df.style.highlight_max(axis=0,color='lightgreen')"
   ]
  },
  {
   "cell_type": "code",
   "execution_count": 187,
   "metadata": {},
   "outputs": [
    {
     "data": {
      "text/plain": [
       "0.09702850212249849"
      ]
     },
     "execution_count": 187,
     "metadata": {},
     "output_type": "execute_result"
    }
   ],
   "source": []
  },
  {
   "cell_type": "code",
   "execution_count": 150,
   "metadata": {},
   "outputs": [],
   "source": [
    "#import pandas for reading csv files\n",
    "import pandas as pd"
   ]
  },
  {
   "cell_type": "code",
   "execution_count": 113,
   "metadata": {},
   "outputs": [
    {
     "name": "stdout",
     "output_type": "stream",
     "text": [
      "        ID  Age  Experience  Income  ZIP Code  Family  CCAvg  Education  \\\n",
      "0        1   25           1      49     91107       4    1.6          1   \n",
      "1        2   45          19      34     90089       3    1.5          1   \n",
      "2        3   39          15      11     94720       1    1.0          1   \n",
      "3        4   35           9     100     94112       1    2.7          2   \n",
      "4        5   35           8      45     91330       4    1.0          2   \n",
      "...    ...  ...         ...     ...       ...     ...    ...        ...   \n",
      "4943  4996   29           3      40     92697       1    1.9          3   \n",
      "4944  4997   30           4      15     92037       4    0.4          1   \n",
      "4945  4998   63          39      24     93023       2    0.3          3   \n",
      "4946  4999   65          40      49     90034       3    0.5          2   \n",
      "4947  5000   28           4      83     92612       3    0.8          1   \n",
      "\n",
      "      Mortgage  Personal Loan  Securities Account  CD Account  Online  \\\n",
      "0            0              0                   1           0       0   \n",
      "1            0              0                   1           0       0   \n",
      "2            0              0                   0           0       0   \n",
      "3            0              0                   0           0       0   \n",
      "4            0              0                   0           0       0   \n",
      "...        ...            ...                 ...         ...     ...   \n",
      "4943         0              0                   0           0       1   \n",
      "4944        85              0                   0           0       1   \n",
      "4945         0              0                   0           0       0   \n",
      "4946         0              0                   0           0       1   \n",
      "4947         0              0                   0           0       1   \n",
      "\n",
      "      CreditCard  \n",
      "0              0  \n",
      "1              0  \n",
      "2              0  \n",
      "3              0  \n",
      "4              1  \n",
      "...          ...  \n",
      "4943           0  \n",
      "4944           0  \n",
      "4945           0  \n",
      "4946           0  \n",
      "4947           1  \n",
      "\n",
      "[4948 rows x 14 columns]\n"
     ]
    }
   ],
   "source": [
    "#read in files\n",
    "bank = pd.read_csv ('C:/Users/User/Desktop/nyulearningmaterial/2020Spring/datamining/hw4/UniversalBank_clean.csv')\n",
    "print(bank)"
   ]
  },
  {
   "cell_type": "code",
   "execution_count": 114,
   "metadata": {},
   "outputs": [],
   "source": [
    "#To transform 'Education' and 'ZIP code' into categorical variables(one hot encoding)\n",
    "edu_dum = pd.get_dummies(bank.Education) #group 4 as the reference\n",
    "zip_dum = pd.get_dummies(bank['ZIP Code'])"
   ]
  },
  {
   "cell_type": "code",
   "execution_count": 115,
   "metadata": {},
   "outputs": [
    {
     "name": "stdout",
     "output_type": "stream",
     "text": [
      "        ID  Age  Experience  Income  ZIP Code  Family  CCAvg  Education  \\\n",
      "0        1   25           1      49     91107       4    1.6          1   \n",
      "1        2   45          19      34     90089       3    1.5          1   \n",
      "2        3   39          15      11     94720       1    1.0          1   \n",
      "3        4   35           9     100     94112       1    2.7          2   \n",
      "4        5   35           8      45     91330       4    1.0          2   \n",
      "...    ...  ...         ...     ...       ...     ...    ...        ...   \n",
      "4943  4996   29           3      40     92697       1    1.9          3   \n",
      "4944  4997   30           4      15     92037       4    0.4          1   \n",
      "4945  4998   63          39      24     93023       2    0.3          3   \n",
      "4946  4999   65          40      49     90034       3    0.5          2   \n",
      "4947  5000   28           4      83     92612       3    0.8          1   \n",
      "\n",
      "      Mortgage  Personal Loan  ...  95973  96001  96003  96008  96064  96091  \\\n",
      "0            0              0  ...      0      0      0      0      0      0   \n",
      "1            0              0  ...      0      0      0      0      0      0   \n",
      "2            0              0  ...      0      0      0      0      0      0   \n",
      "3            0              0  ...      0      0      0      0      0      0   \n",
      "4            0              0  ...      0      0      0      0      0      0   \n",
      "...        ...            ...  ...    ...    ...    ...    ...    ...    ...   \n",
      "4943         0              0  ...      0      0      0      0      0      0   \n",
      "4944        85              0  ...      0      0      0      0      0      0   \n",
      "4945         0              0  ...      0      0      0      0      0      0   \n",
      "4946         0              0  ...      0      0      0      0      0      0   \n",
      "4947         0              0  ...      0      0      0      0      0      0   \n",
      "\n",
      "      96094  96145  96150  96651  \n",
      "0         0      0      0      0  \n",
      "1         0      0      0      0  \n",
      "2         0      0      0      0  \n",
      "3         0      0      0      0  \n",
      "4         0      0      0      0  \n",
      "...     ...    ...    ...    ...  \n",
      "4943      0      0      0      0  \n",
      "4944      0      0      0      0  \n",
      "4945      0      0      0      0  \n",
      "4946      0      0      0      0  \n",
      "4947      0      0      0      0  \n",
      "\n",
      "[4948 rows x 484 columns]\n"
     ]
    }
   ],
   "source": [
    "#Add back dummy variables for edu and zip code into the bank dataset\n",
    "bank_clean = pd.concat([bank,edu_dum], axis=1)\n",
    "bank_clean = pd.concat([bank_clean,zip_dum], axis=1)\n",
    "print(bank_clean)"
   ]
  },
  {
   "cell_type": "code",
   "execution_count": 116,
   "metadata": {},
   "outputs": [
    {
     "data": {
      "text/html": [
       "<div>\n",
       "<style scoped>\n",
       "    .dataframe tbody tr th:only-of-type {\n",
       "        vertical-align: middle;\n",
       "    }\n",
       "\n",
       "    .dataframe tbody tr th {\n",
       "        vertical-align: top;\n",
       "    }\n",
       "\n",
       "    .dataframe thead th {\n",
       "        text-align: right;\n",
       "    }\n",
       "</style>\n",
       "<table border=\"1\" class=\"dataframe\">\n",
       "  <thead>\n",
       "    <tr style=\"text-align: right;\">\n",
       "      <th></th>\n",
       "      <th>ID</th>\n",
       "      <th>Age</th>\n",
       "      <th>Experience</th>\n",
       "      <th>Income</th>\n",
       "      <th>Family</th>\n",
       "      <th>CCAvg</th>\n",
       "      <th>Education</th>\n",
       "      <th>Mortgage</th>\n",
       "      <th>Personal Loan</th>\n",
       "      <th>Securities Account</th>\n",
       "      <th>...</th>\n",
       "      <th>95973</th>\n",
       "      <th>96001</th>\n",
       "      <th>96003</th>\n",
       "      <th>96008</th>\n",
       "      <th>96064</th>\n",
       "      <th>96091</th>\n",
       "      <th>96094</th>\n",
       "      <th>96145</th>\n",
       "      <th>96150</th>\n",
       "      <th>96651</th>\n",
       "    </tr>\n",
       "  </thead>\n",
       "  <tbody>\n",
       "    <tr>\n",
       "      <td>0</td>\n",
       "      <td>1</td>\n",
       "      <td>25</td>\n",
       "      <td>1</td>\n",
       "      <td>49</td>\n",
       "      <td>4</td>\n",
       "      <td>1.6</td>\n",
       "      <td>1</td>\n",
       "      <td>0</td>\n",
       "      <td>0</td>\n",
       "      <td>1</td>\n",
       "      <td>...</td>\n",
       "      <td>0</td>\n",
       "      <td>0</td>\n",
       "      <td>0</td>\n",
       "      <td>0</td>\n",
       "      <td>0</td>\n",
       "      <td>0</td>\n",
       "      <td>0</td>\n",
       "      <td>0</td>\n",
       "      <td>0</td>\n",
       "      <td>0</td>\n",
       "    </tr>\n",
       "    <tr>\n",
       "      <td>1</td>\n",
       "      <td>2</td>\n",
       "      <td>45</td>\n",
       "      <td>19</td>\n",
       "      <td>34</td>\n",
       "      <td>3</td>\n",
       "      <td>1.5</td>\n",
       "      <td>1</td>\n",
       "      <td>0</td>\n",
       "      <td>0</td>\n",
       "      <td>1</td>\n",
       "      <td>...</td>\n",
       "      <td>0</td>\n",
       "      <td>0</td>\n",
       "      <td>0</td>\n",
       "      <td>0</td>\n",
       "      <td>0</td>\n",
       "      <td>0</td>\n",
       "      <td>0</td>\n",
       "      <td>0</td>\n",
       "      <td>0</td>\n",
       "      <td>0</td>\n",
       "    </tr>\n",
       "    <tr>\n",
       "      <td>2</td>\n",
       "      <td>3</td>\n",
       "      <td>39</td>\n",
       "      <td>15</td>\n",
       "      <td>11</td>\n",
       "      <td>1</td>\n",
       "      <td>1.0</td>\n",
       "      <td>1</td>\n",
       "      <td>0</td>\n",
       "      <td>0</td>\n",
       "      <td>0</td>\n",
       "      <td>...</td>\n",
       "      <td>0</td>\n",
       "      <td>0</td>\n",
       "      <td>0</td>\n",
       "      <td>0</td>\n",
       "      <td>0</td>\n",
       "      <td>0</td>\n",
       "      <td>0</td>\n",
       "      <td>0</td>\n",
       "      <td>0</td>\n",
       "      <td>0</td>\n",
       "    </tr>\n",
       "    <tr>\n",
       "      <td>3</td>\n",
       "      <td>4</td>\n",
       "      <td>35</td>\n",
       "      <td>9</td>\n",
       "      <td>100</td>\n",
       "      <td>1</td>\n",
       "      <td>2.7</td>\n",
       "      <td>2</td>\n",
       "      <td>0</td>\n",
       "      <td>0</td>\n",
       "      <td>0</td>\n",
       "      <td>...</td>\n",
       "      <td>0</td>\n",
       "      <td>0</td>\n",
       "      <td>0</td>\n",
       "      <td>0</td>\n",
       "      <td>0</td>\n",
       "      <td>0</td>\n",
       "      <td>0</td>\n",
       "      <td>0</td>\n",
       "      <td>0</td>\n",
       "      <td>0</td>\n",
       "    </tr>\n",
       "    <tr>\n",
       "      <td>4</td>\n",
       "      <td>5</td>\n",
       "      <td>35</td>\n",
       "      <td>8</td>\n",
       "      <td>45</td>\n",
       "      <td>4</td>\n",
       "      <td>1.0</td>\n",
       "      <td>2</td>\n",
       "      <td>0</td>\n",
       "      <td>0</td>\n",
       "      <td>0</td>\n",
       "      <td>...</td>\n",
       "      <td>0</td>\n",
       "      <td>0</td>\n",
       "      <td>0</td>\n",
       "      <td>0</td>\n",
       "      <td>0</td>\n",
       "      <td>0</td>\n",
       "      <td>0</td>\n",
       "      <td>0</td>\n",
       "      <td>0</td>\n",
       "      <td>0</td>\n",
       "    </tr>\n",
       "    <tr>\n",
       "      <td>...</td>\n",
       "      <td>...</td>\n",
       "      <td>...</td>\n",
       "      <td>...</td>\n",
       "      <td>...</td>\n",
       "      <td>...</td>\n",
       "      <td>...</td>\n",
       "      <td>...</td>\n",
       "      <td>...</td>\n",
       "      <td>...</td>\n",
       "      <td>...</td>\n",
       "      <td>...</td>\n",
       "      <td>...</td>\n",
       "      <td>...</td>\n",
       "      <td>...</td>\n",
       "      <td>...</td>\n",
       "      <td>...</td>\n",
       "      <td>...</td>\n",
       "      <td>...</td>\n",
       "      <td>...</td>\n",
       "      <td>...</td>\n",
       "      <td>...</td>\n",
       "    </tr>\n",
       "    <tr>\n",
       "      <td>4943</td>\n",
       "      <td>4996</td>\n",
       "      <td>29</td>\n",
       "      <td>3</td>\n",
       "      <td>40</td>\n",
       "      <td>1</td>\n",
       "      <td>1.9</td>\n",
       "      <td>3</td>\n",
       "      <td>0</td>\n",
       "      <td>0</td>\n",
       "      <td>0</td>\n",
       "      <td>...</td>\n",
       "      <td>0</td>\n",
       "      <td>0</td>\n",
       "      <td>0</td>\n",
       "      <td>0</td>\n",
       "      <td>0</td>\n",
       "      <td>0</td>\n",
       "      <td>0</td>\n",
       "      <td>0</td>\n",
       "      <td>0</td>\n",
       "      <td>0</td>\n",
       "    </tr>\n",
       "    <tr>\n",
       "      <td>4944</td>\n",
       "      <td>4997</td>\n",
       "      <td>30</td>\n",
       "      <td>4</td>\n",
       "      <td>15</td>\n",
       "      <td>4</td>\n",
       "      <td>0.4</td>\n",
       "      <td>1</td>\n",
       "      <td>85</td>\n",
       "      <td>0</td>\n",
       "      <td>0</td>\n",
       "      <td>...</td>\n",
       "      <td>0</td>\n",
       "      <td>0</td>\n",
       "      <td>0</td>\n",
       "      <td>0</td>\n",
       "      <td>0</td>\n",
       "      <td>0</td>\n",
       "      <td>0</td>\n",
       "      <td>0</td>\n",
       "      <td>0</td>\n",
       "      <td>0</td>\n",
       "    </tr>\n",
       "    <tr>\n",
       "      <td>4945</td>\n",
       "      <td>4998</td>\n",
       "      <td>63</td>\n",
       "      <td>39</td>\n",
       "      <td>24</td>\n",
       "      <td>2</td>\n",
       "      <td>0.3</td>\n",
       "      <td>3</td>\n",
       "      <td>0</td>\n",
       "      <td>0</td>\n",
       "      <td>0</td>\n",
       "      <td>...</td>\n",
       "      <td>0</td>\n",
       "      <td>0</td>\n",
       "      <td>0</td>\n",
       "      <td>0</td>\n",
       "      <td>0</td>\n",
       "      <td>0</td>\n",
       "      <td>0</td>\n",
       "      <td>0</td>\n",
       "      <td>0</td>\n",
       "      <td>0</td>\n",
       "    </tr>\n",
       "    <tr>\n",
       "      <td>4946</td>\n",
       "      <td>4999</td>\n",
       "      <td>65</td>\n",
       "      <td>40</td>\n",
       "      <td>49</td>\n",
       "      <td>3</td>\n",
       "      <td>0.5</td>\n",
       "      <td>2</td>\n",
       "      <td>0</td>\n",
       "      <td>0</td>\n",
       "      <td>0</td>\n",
       "      <td>...</td>\n",
       "      <td>0</td>\n",
       "      <td>0</td>\n",
       "      <td>0</td>\n",
       "      <td>0</td>\n",
       "      <td>0</td>\n",
       "      <td>0</td>\n",
       "      <td>0</td>\n",
       "      <td>0</td>\n",
       "      <td>0</td>\n",
       "      <td>0</td>\n",
       "    </tr>\n",
       "    <tr>\n",
       "      <td>4947</td>\n",
       "      <td>5000</td>\n",
       "      <td>28</td>\n",
       "      <td>4</td>\n",
       "      <td>83</td>\n",
       "      <td>3</td>\n",
       "      <td>0.8</td>\n",
       "      <td>1</td>\n",
       "      <td>0</td>\n",
       "      <td>0</td>\n",
       "      <td>0</td>\n",
       "      <td>...</td>\n",
       "      <td>0</td>\n",
       "      <td>0</td>\n",
       "      <td>0</td>\n",
       "      <td>0</td>\n",
       "      <td>0</td>\n",
       "      <td>0</td>\n",
       "      <td>0</td>\n",
       "      <td>0</td>\n",
       "      <td>0</td>\n",
       "      <td>0</td>\n",
       "    </tr>\n",
       "  </tbody>\n",
       "</table>\n",
       "<p>4948 rows × 483 columns</p>\n",
       "</div>"
      ],
      "text/plain": [
       "        ID  Age  Experience  Income  Family  CCAvg  Education  Mortgage  \\\n",
       "0        1   25           1      49       4    1.6          1         0   \n",
       "1        2   45          19      34       3    1.5          1         0   \n",
       "2        3   39          15      11       1    1.0          1         0   \n",
       "3        4   35           9     100       1    2.7          2         0   \n",
       "4        5   35           8      45       4    1.0          2         0   \n",
       "...    ...  ...         ...     ...     ...    ...        ...       ...   \n",
       "4943  4996   29           3      40       1    1.9          3         0   \n",
       "4944  4997   30           4      15       4    0.4          1        85   \n",
       "4945  4998   63          39      24       2    0.3          3         0   \n",
       "4946  4999   65          40      49       3    0.5          2         0   \n",
       "4947  5000   28           4      83       3    0.8          1         0   \n",
       "\n",
       "      Personal Loan  Securities Account  ...  95973  96001  96003  96008  \\\n",
       "0                 0                   1  ...      0      0      0      0   \n",
       "1                 0                   1  ...      0      0      0      0   \n",
       "2                 0                   0  ...      0      0      0      0   \n",
       "3                 0                   0  ...      0      0      0      0   \n",
       "4                 0                   0  ...      0      0      0      0   \n",
       "...             ...                 ...  ...    ...    ...    ...    ...   \n",
       "4943              0                   0  ...      0      0      0      0   \n",
       "4944              0                   0  ...      0      0      0      0   \n",
       "4945              0                   0  ...      0      0      0      0   \n",
       "4946              0                   0  ...      0      0      0      0   \n",
       "4947              0                   0  ...      0      0      0      0   \n",
       "\n",
       "      96064  96091  96094  96145  96150  96651  \n",
       "0         0      0      0      0      0      0  \n",
       "1         0      0      0      0      0      0  \n",
       "2         0      0      0      0      0      0  \n",
       "3         0      0      0      0      0      0  \n",
       "4         0      0      0      0      0      0  \n",
       "...     ...    ...    ...    ...    ...    ...  \n",
       "4943      0      0      0      0      0      0  \n",
       "4944      0      0      0      0      0      0  \n",
       "4945      0      0      0      0      0      0  \n",
       "4946      0      0      0      0      0      0  \n",
       "4947      0      0      0      0      0      0  \n",
       "\n",
       "[4948 rows x 483 columns]"
      ]
     },
     "execution_count": 116,
     "metadata": {},
     "output_type": "execute_result"
    }
   ],
   "source": [
    "#Rename the dummy columns for education\n",
    "bank_clean.rename(columns={'1': 'Edu1'})\n",
    "bank_clean.rename(columns={'2': 'Edu2'})\n",
    "bank_clean.rename(columns={'3': 'Edu3'})\n",
    "#Remove the original columns \n",
    "bank_clean.drop('Education',axis = 1)\n",
    "bank_clean.drop('ZIP Code',axis = 1)"
   ]
  },
  {
   "cell_type": "code",
   "execution_count": 117,
   "metadata": {},
   "outputs": [],
   "source": [
    "import numpy as np\n",
    "#Define labels\n",
    "labels = np.array(bank_clean['Personal Loan'])\n",
    "#Define features\n",
    "features= bank_clean.drop('Personal Loan', axis = 1)\n",
    "#Saving feature name\n",
    "feature_list = list(features.columns)\n",
    "#Convert to numpy array\n",
    "features = np.array(features)"
   ]
  },
  {
   "cell_type": "code",
   "execution_count": 118,
   "metadata": {},
   "outputs": [],
   "source": [
    "#Split data into training and testing sets with Skicit-learn\n",
    "from sklearn.model_selection import train_test_split\n",
    "# Split the data into training and testing sets(0.8 of training set, 0.2 of test set)\n",
    "train_features, test_features, train_labels, test_labels = train_test_split(features, labels, test_size = 0.2, random_state = 42)"
   ]
  },
  {
   "cell_type": "code",
   "execution_count": 119,
   "metadata": {},
   "outputs": [
    {
     "name": "stdout",
     "output_type": "stream",
     "text": [
      "Training Features Shape: (3958, 483)\n",
      "Training Labels Shape: (3958,)\n",
      "Testing Features Shape: (990, 483)\n",
      "Testing Labels Shape: (990,)\n"
     ]
    }
   ],
   "source": [
    "print('Training Features Shape:', train_features.shape)\n",
    "print('Training Labels Shape:', train_labels.shape)\n",
    "print('Testing Features Shape:', test_features.shape)\n",
    "print('Testing Labels Shape:', test_labels.shape)"
   ]
  },
  {
   "cell_type": "code",
   "execution_count": 120,
   "metadata": {},
   "outputs": [
    {
     "data": {
      "text/plain": [
       "RandomForestClassifier(bootstrap=True, class_weight=None, criterion='gini',\n",
       "                       max_depth=None, max_features='auto', max_leaf_nodes=None,\n",
       "                       min_impurity_decrease=0.0, min_impurity_split=None,\n",
       "                       min_samples_leaf=1, min_samples_split=2,\n",
       "                       min_weight_fraction_leaf=0.0, n_estimators=100,\n",
       "                       n_jobs=None, oob_score=False, random_state=None,\n",
       "                       verbose=0, warm_start=False)"
      ]
     },
     "execution_count": 120,
     "metadata": {},
     "output_type": "execute_result"
    }
   ],
   "source": [
    "# Import the model we are using\n",
    "from sklearn.ensemble import RandomForestRegressor\n",
    "# Instantiate model with 100 decision trees\n",
    "clf=RandomForestClassifier(n_estimators=100)\n",
    "\n",
    "# Train the model on training data\n",
    "clf.fit(train_features,train_labels)"
   ]
  },
  {
   "cell_type": "code",
   "execution_count": 121,
   "metadata": {},
   "outputs": [],
   "source": [
    "#Prediction result of training set\n",
    "train_lable_pred=clf.predict(train_features)"
   ]
  },
  {
   "cell_type": "code",
   "execution_count": 163,
   "metadata": {},
   "outputs": [
    {
     "name": "stdout",
     "output_type": "stream",
     "text": [
      "Accuracy: 1.0\n",
      "Recall: 1.0\n"
     ]
    }
   ],
   "source": [
    "#Import scikit-learn metrics module for accuracy calculation\n",
    "from sklearn import metrics\n",
    "# Model Accuracy: how many clinets were predicted correctly\n",
    "print(\"Accuracy:\",metrics.accuracy_score(train_labels, train_lable_pred))\n",
    "print(\"Recall:\",metrics.accuracy_score(train_labels, train_lable_pred))"
   ]
  },
  {
   "cell_type": "code",
   "execution_count": 171,
   "metadata": {},
   "outputs": [
    {
     "name": "stdout",
     "output_type": "stream",
     "text": [
      "Accuracy: 0.9777777777777777\n",
      "Recall: 0.7586206896551724\n"
     ]
    }
   ],
   "source": [
    "#Predict on testing set\n",
    "pred = clf.predict(test_features)\n",
    "# Overall Accuracy\n",
    "print(\"Accuracy:\",metrics.accuracy_score(test_labels, pred))\n",
    "print(\"Recall:\",metrics.recall_score(test_labels, pred))"
   ]
  },
  {
   "cell_type": "code",
   "execution_count": 124,
   "metadata": {
    "scrolled": false
   },
   "outputs": [
    {
     "data": {
      "text/plain": [
       "Income        0.262572\n",
       "CCAvg         0.149378\n",
       "Family        0.058698\n",
       "CD Account    0.046146\n",
       "1             0.046001\n",
       "                ...   \n",
       "93003         0.000000\n",
       "92835         0.000000\n",
       "90813         0.000000\n",
       "90505         0.000000\n",
       "93111         0.000000\n",
       "Length: 483, dtype: float64"
      ]
     },
     "execution_count": 124,
     "metadata": {},
     "output_type": "execute_result"
    }
   ],
   "source": [
    "#Finding important features\n",
    "feature_imp = pd.Series(clf.feature_importances_,index=feature_list).sort_values(ascending=False)\n",
    "feature_imp"
   ]
  },
  {
   "cell_type": "code",
   "execution_count": 172,
   "metadata": {},
   "outputs": [
    {
     "name": "stderr",
     "output_type": "stream",
     "text": [
      "No handles with labels found to put in legend.\n"
     ]
    },
    {
     "data": {
      "image/png": "[encoded data removed]",
      "text/plain": [
       "<Figure size 432x288 with 1 Axes>"
      ]
     },
     "metadata": {
      "needs_background": "light"
     },
     "output_type": "display_data"
    }
   ],
   "source": [
    "import matplotlib.pyplot as plt\n",
    "import seaborn as sns\n",
    "%matplotlib inline\n",
    "# Creating a bar plot\n",
    "sns.barplot(x=feature_imp[:10], y=feature_imp[:10].index)\n",
    "# Add labels to your graph\n",
    "plt.xlabel('Feature Importance Score')\n",
    "plt.ylabel('Features')\n",
    "plt.title(\"Visualizing Important Features\")\n",
    "plt.legend()\n",
    "plt.show()"
   ]
  },
  {
   "cell_type": "markdown",
   "metadata": {},
   "source": [
    " type here"
   ]
  },
  {
   "cell_type": "code",
   "execution_count": 174,
   "metadata": {},
   "outputs": [
    {
     "name": "stderr",
     "output_type": "stream",
     "text": [
      "C:\\Users\\User\\Anaconda3\\lib\\site-packages\\sklearn\\svm\\base.py:193: FutureWarning: The default value of gamma will change from 'auto' to 'scale' in version 0.22 to account better for unscaled features. Set gamma explicitly to 'auto' or 'scale' to avoid this warning.\n",
      "  \"avoid this warning.\", FutureWarning)\n"
     ]
    },
    {
     "name": "stdout",
     "output_type": "stream",
     "text": [
      "Accuracy: 0.9979787771601819\n",
      "Recall: 0.9796437659033079\n"
     ]
    }
   ],
   "source": [
    "from sklearn import svm\n",
    "#Construct a SVM model\n",
    "clf_svm = svm.SVC()\n",
    "#Train the model\n",
    "clf_svm.fit(train_features,train_labels)\n",
    "#Prediction result of training set\n",
    "train_lable_pred_svm = clf_svm.predict(train_features)\n",
    "# Model Accuracy: how many clinets were predicted correctly\n",
    "print(\"Accuracy:\",metrics.accuracy_score(train_labels, train_lable_pred_svm))\n",
    "print(\"Recall:\",metrics.recall_score(train_labels, train_lable_pred_svm))"
   ]
  },
  {
   "cell_type": "code",
   "execution_count": 175,
   "metadata": {},
   "outputs": [
    {
     "name": "stdout",
     "output_type": "stream",
     "text": [
      "Accuracy: 0.9121212121212121\n",
      "Recall: 0.0\n"
     ]
    }
   ],
   "source": [
    "#Predict on testing set\n",
    "pred_svm = clf_svm.predict(test_features)\n",
    "# Overall Accuracy\n",
    "print(\"Accuracy:\",metrics.accuracy_score(test_labels, pred_svm))\n",
    "print(\"Recall:\",metrics.recall_score(test_labels, pred_svm))"
   ]
  },
  {
   "cell_type": "code",
   "execution_count": 176,
   "metadata": {},
   "outputs": [
    {
     "name": "stdout",
     "output_type": "stream",
     "text": [
      "Accuracy: 1.0\n",
      "Recall: 1.0\n"
     ]
    }
   ],
   "source": [
    "from sklearn import tree\n",
    "#Conctruct CART model\n",
    "clf_cart = tree.DecisionTreeClassifier()\n",
    "clf_cart.fit(train_features,train_labels)\n",
    "#Prediction result of training set\n",
    "train_lable_pred_cart = clf_cart.predict(train_features)\n",
    "# Model Accuracy: how many clinets were predicted correctly\n",
    "print(\"Accuracy:\",metrics.accuracy_score(train_labels, train_lable_pred_cart))\n",
    "print(\"Recall:\",metrics.recall_score(train_labels, train_lable_pred_cart))"
   ]
  },
  {
   "cell_type": "code",
   "execution_count": 177,
   "metadata": {},
   "outputs": [
    {
     "name": "stdout",
     "output_type": "stream",
     "text": [
      "Accuracy: 0.9747474747474747\n",
      "Recall: 0.8390804597701149\n"
     ]
    }
   ],
   "source": [
    "#Predict on testing set\n",
    "pred_cart = clf_cart.predict(test_features)\n",
    "# Overall Accuracy\n",
    "print(\"Accuracy:\",metrics.accuracy_score(test_labels, pred_cart))\n",
    "print(\"Recall:\",metrics.recall_score(test_labels, pred_cart))"
   ]
  },
  {
   "cell_type": "code",
   "execution_count": 139,
   "metadata": {},
   "outputs": [
    {
     "data": {
      "text/plain": [
       "[Text(207.28828125, 211.7178947368421, 'X[3] <= 114.5\\ngini = 0.179\\nsamples = 3958\\nvalue = [3565, 393]'),\n",
       " Text(107.6765625, 200.2736842105263, 'X[6] <= 2.95\\ngini = 0.043\\nsamples = 3183\\nvalue = [3113, 70]'),\n",
       " Text(41.85, 188.82947368421054, 'X[3] <= 106.5\\ngini = 0.006\\nsamples = 2939\\nvalue = [2930, 9]'),\n",
       " Text(34.875, 177.38526315789474, 'gini = 0.0\\nsamples = 2857\\nvalue = [2857, 0]'),\n",
       " Text(48.825, 177.38526315789474, 'X[5] <= 3.5\\ngini = 0.195\\nsamples = 82\\nvalue = [73, 9]'),\n",
       " Text(34.875, 165.94105263157894, 'X[122] <= 0.5\\ngini = 0.111\\nsamples = 68\\nvalue = [64, 4]'),\n",
       " Text(27.900000000000002, 154.49684210526317, 'X[257] <= 0.5\\ngini = 0.086\\nsamples = 67\\nvalue = [64, 3]'),\n",
       " Text(20.925, 143.05263157894737, 'X[77] <= 0.5\\ngini = 0.059\\nsamples = 66\\nvalue = [64, 2]'),\n",
       " Text(13.950000000000001, 131.60842105263157, 'X[391] <= 0.5\\ngini = 0.03\\nsamples = 65\\nvalue = [64, 1]'),\n",
       " Text(6.9750000000000005, 120.16421052631578, 'gini = 0.0\\nsamples = 64\\nvalue = [64, 0]'),\n",
       " Text(20.925, 120.16421052631578, 'gini = 0.0\\nsamples = 1\\nvalue = [0, 1]'),\n",
       " Text(27.900000000000002, 131.60842105263157, 'gini = 0.0\\nsamples = 1\\nvalue = [0, 1]'),\n",
       " Text(34.875, 143.05263157894737, 'gini = 0.0\\nsamples = 1\\nvalue = [0, 1]'),\n",
       " Text(41.85, 154.49684210526317, 'gini = 0.0\\nsamples = 1\\nvalue = [0, 1]'),\n",
       " Text(62.775000000000006, 165.94105263157894, 'X[13] <= 0.5\\ngini = 0.459\\nsamples = 14\\nvalue = [9, 5]'),\n",
       " Text(55.800000000000004, 154.49684210526317, 'X[0] <= 4024.5\\ngini = 0.298\\nsamples = 11\\nvalue = [9, 2]'),\n",
       " Text(48.825, 143.05263157894737, 'X[166] <= 0.5\\ngini = 0.18\\nsamples = 10\\nvalue = [9, 1]'),\n",
       " Text(41.85, 131.60842105263157, 'gini = 0.0\\nsamples = 9\\nvalue = [9, 0]'),\n",
       " Text(55.800000000000004, 131.60842105263157, 'gini = 0.0\\nsamples = 1\\nvalue = [0, 1]'),\n",
       " Text(62.775000000000006, 143.05263157894737, 'gini = 0.0\\nsamples = 1\\nvalue = [0, 1]'),\n",
       " Text(69.75, 154.49684210526317, 'gini = 0.0\\nsamples = 3\\nvalue = [0, 3]'),\n",
       " Text(173.503125, 188.82947368421054, 'X[10] <= 0.5\\ngini = 0.375\\nsamples = 244\\nvalue = [183, 61]'),\n",
       " Text(116.83125000000001, 177.38526315789474, 'X[3] <= 92.5\\ngini = 0.319\\nsamples = 221\\nvalue = [177, 44]'),\n",
       " Text(90.67500000000001, 165.94105263157894, 'X[1] <= 29.5\\ngini = 0.181\\nsamples = 129\\nvalue = [116, 13]'),\n",
       " Text(83.7, 154.49684210526317, 'gini = 0.0\\nsamples = 2\\nvalue = [0, 2]'),\n",
       " Text(97.65, 154.49684210526317, 'X[409] <= 0.5\\ngini = 0.158\\nsamples = 127\\nvalue = [116, 11]'),\n",
       " Text(90.67500000000001, 143.05263157894737, 'X[191] <= 0.5\\ngini = 0.146\\nsamples = 126\\nvalue = [116, 10]'),\n",
       " Text(83.7, 131.60842105263157, 'X[104] <= 0.5\\ngini = 0.134\\nsamples = 125\\nvalue = [116, 9]'),\n",
       " Text(76.72500000000001, 120.16421052631578, 'X[412] <= 0.5\\ngini = 0.121\\nsamples = 124\\nvalue = [116, 8]'),\n",
       " Text(69.75, 108.72, 'X[177] <= 0.5\\ngini = 0.107\\nsamples = 123\\nvalue = [116, 7]'),\n",
       " Text(62.775000000000006, 97.27578947368421, 'X[204] <= 0.5\\ngini = 0.094\\nsamples = 122\\nvalue = [116, 6]'),\n",
       " Text(55.800000000000004, 85.83157894736843, 'X[381] <= 0.5\\ngini = 0.079\\nsamples = 121\\nvalue = [116, 5]'),\n",
       " Text(48.825, 74.38736842105263, 'X[308] <= 0.5\\ngini = 0.064\\nsamples = 120\\nvalue = [116, 4]'),\n",
       " Text(41.85, 62.943157894736856, 'X[75] <= 0.5\\ngini = 0.049\\nsamples = 119\\nvalue = [116, 3]'),\n",
       " Text(34.875, 51.49894736842106, 'X[383] <= 0.5\\ngini = 0.033\\nsamples = 118\\nvalue = [116, 2]'),\n",
       " Text(20.925, 40.05473684210526, 'X[332] <= 0.5\\ngini = 0.017\\nsamples = 114\\nvalue = [113, 1]'),\n",
       " Text(13.950000000000001, 28.610526315789485, 'gini = 0.0\\nsamples = 107\\nvalue = [107, 0]'),\n",
       " Text(27.900000000000002, 28.610526315789485, 'X[15] <= 0.5\\ngini = 0.245\\nsamples = 7\\nvalue = [6, 1]'),\n",
       " Text(20.925, 17.166315789473686, 'gini = 0.0\\nsamples = 5\\nvalue = [5, 0]'),\n",
       " Text(34.875, 17.166315789473686, 'X[5] <= 2.5\\ngini = 0.5\\nsamples = 2\\nvalue = [1, 1]'),\n",
       " Text(27.900000000000002, 5.722105263157886, 'gini = 0.0\\nsamples = 1\\nvalue = [1, 0]'),\n",
       " Text(41.85, 5.722105263157886, 'gini = 0.0\\nsamples = 1\\nvalue = [0, 1]'),\n",
       " Text(48.825, 40.05473684210526, 'X[6] <= 3.15\\ngini = 0.375\\nsamples = 4\\nvalue = [3, 1]'),\n",
       " Text(41.85, 28.610526315789485, 'gini = 0.0\\nsamples = 1\\nvalue = [0, 1]'),\n",
       " Text(55.800000000000004, 28.610526315789485, 'gini = 0.0\\nsamples = 3\\nvalue = [3, 0]'),\n",
       " Text(48.825, 51.49894736842106, 'gini = 0.0\\nsamples = 1\\nvalue = [0, 1]'),\n",
       " Text(55.800000000000004, 62.943157894736856, 'gini = 0.0\\nsamples = 1\\nvalue = [0, 1]'),\n",
       " Text(62.775000000000006, 74.38736842105263, 'gini = 0.0\\nsamples = 1\\nvalue = [0, 1]'),\n",
       " Text(69.75, 85.83157894736843, 'gini = 0.0\\nsamples = 1\\nvalue = [0, 1]'),\n",
       " Text(76.72500000000001, 97.27578947368421, 'gini = 0.0\\nsamples = 1\\nvalue = [0, 1]'),\n",
       " Text(83.7, 108.72, 'gini = 0.0\\nsamples = 1\\nvalue = [0, 1]'),\n",
       " Text(90.67500000000001, 120.16421052631578, 'gini = 0.0\\nsamples = 1\\nvalue = [0, 1]'),\n",
       " Text(97.65, 131.60842105263157, 'gini = 0.0\\nsamples = 1\\nvalue = [0, 1]'),\n",
       " Text(104.62500000000001, 143.05263157894737, 'gini = 0.0\\nsamples = 1\\nvalue = [0, 1]'),\n",
       " Text(142.9875, 165.94105263157894, 'X[7] <= 1.5\\ngini = 0.447\\nsamples = 92\\nvalue = [61, 31]'),\n",
       " Text(125.55000000000001, 154.49684210526317, 'X[229] <= 0.5\\ngini = 0.14\\nsamples = 53\\nvalue = [49, 4]'),\n",
       " Text(118.575, 143.05263157894737, 'X[39] <= 0.5\\ngini = 0.109\\nsamples = 52\\nvalue = [49, 3]'),\n",
       " Text(111.60000000000001, 131.60842105263157, 'X[428] <= 0.5\\ngini = 0.075\\nsamples = 51\\nvalue = [49, 2]'),\n",
       " Text(104.62500000000001, 120.16421052631578, 'X[31] <= 0.5\\ngini = 0.039\\nsamples = 50\\nvalue = [49, 1]'),\n",
       " Text(97.65, 108.72, 'gini = 0.0\\nsamples = 48\\nvalue = [48, 0]'),\n",
       " Text(111.60000000000001, 108.72, 'X[3] <= 103.5\\ngini = 0.5\\nsamples = 2\\nvalue = [1, 1]'),\n",
       " Text(104.62500000000001, 97.27578947368421, 'gini = 0.0\\nsamples = 1\\nvalue = [0, 1]'),\n",
       " Text(118.575, 97.27578947368421, 'gini = 0.0\\nsamples = 1\\nvalue = [1, 0]'),\n",
       " Text(118.575, 120.16421052631578, 'gini = 0.0\\nsamples = 1\\nvalue = [0, 1]'),\n",
       " Text(125.55000000000001, 131.60842105263157, 'gini = 0.0\\nsamples = 1\\nvalue = [0, 1]'),\n",
       " Text(132.525, 143.05263157894737, 'gini = 0.0\\nsamples = 1\\nvalue = [0, 1]'),\n",
       " Text(160.425, 154.49684210526317, 'X[0] <= 2303.0\\ngini = 0.426\\nsamples = 39\\nvalue = [12, 27]'),\n",
       " Text(146.47500000000002, 143.05263157894737, 'X[262] <= 0.5\\ngini = 0.133\\nsamples = 14\\nvalue = [1, 13]'),\n",
       " Text(139.5, 131.60842105263157, 'gini = 0.0\\nsamples = 13\\nvalue = [0, 13]'),\n",
       " Text(153.45000000000002, 131.60842105263157, 'gini = 0.0\\nsamples = 1\\nvalue = [1, 0]'),\n",
       " Text(174.375, 143.05263157894737, 'X[2] <= 35.5\\ngini = 0.493\\nsamples = 25\\nvalue = [11, 14]'),\n",
       " Text(167.4, 131.60842105263157, 'X[5] <= 2.5\\ngini = 0.463\\nsamples = 22\\nvalue = [8, 14]'),\n",
       " Text(160.425, 120.16421052631578, 'X[6] <= 4.35\\ngini = 0.473\\nsamples = 13\\nvalue = [8, 5]'),\n",
       " Text(153.45000000000002, 108.72, 'X[4] <= 92715.5\\ngini = 0.469\\nsamples = 8\\nvalue = [3, 5]'),\n",
       " Text(146.47500000000002, 97.27578947368421, 'gini = 0.0\\nsamples = 2\\nvalue = [2, 0]'),\n",
       " Text(160.425, 97.27578947368421, 'X[2] <= 26.5\\ngini = 0.278\\nsamples = 6\\nvalue = [1, 5]'),\n",
       " Text(153.45000000000002, 85.83157894736843, 'gini = 0.0\\nsamples = 5\\nvalue = [0, 5]'),\n",
       " Text(167.4, 85.83157894736843, 'gini = 0.0\\nsamples = 1\\nvalue = [1, 0]'),\n",
       " Text(167.4, 108.72, 'gini = 0.0\\nsamples = 5\\nvalue = [5, 0]'),\n",
       " Text(174.375, 120.16421052631578, 'gini = 0.0\\nsamples = 9\\nvalue = [0, 9]'),\n",
       " Text(181.35000000000002, 131.60842105263157, 'gini = 0.0\\nsamples = 3\\nvalue = [3, 0]'),\n",
       " Text(230.175, 177.38526315789474, 'X[15] <= 0.5\\ngini = 0.386\\nsamples = 23\\nvalue = [6, 17]'),\n",
       " Text(216.22500000000002, 165.94105263157894, 'X[125] <= 0.5\\ngini = 0.266\\nsamples = 19\\nvalue = [3, 16]'),\n",
       " Text(209.25000000000003, 154.49684210526317, 'X[370] <= 0.5\\ngini = 0.198\\nsamples = 18\\nvalue = [2, 16]'),\n",
       " Text(202.275, 143.05263157894737, 'X[457] <= 0.5\\ngini = 0.111\\nsamples = 17\\nvalue = [1, 16]'),\n",
       " Text(195.3, 131.60842105263157, 'gini = 0.0\\nsamples = 15\\nvalue = [0, 15]'),\n",
       " Text(209.25000000000003, 131.60842105263157, 'X[5] <= 2.5\\ngini = 0.5\\nsamples = 2\\nvalue = [1, 1]'),\n",
       " Text(202.275, 120.16421052631578, 'gini = 0.0\\nsamples = 1\\nvalue = [1, 0]'),\n",
       " Text(216.22500000000002, 120.16421052631578, 'gini = 0.0\\nsamples = 1\\nvalue = [0, 1]'),\n",
       " Text(216.22500000000002, 143.05263157894737, 'gini = 0.0\\nsamples = 1\\nvalue = [1, 0]'),\n",
       " Text(223.20000000000002, 154.49684210526317, 'gini = 0.0\\nsamples = 1\\nvalue = [1, 0]'),\n",
       " Text(244.12500000000003, 165.94105263157894, 'X[337] <= 0.5\\ngini = 0.375\\nsamples = 4\\nvalue = [3, 1]'),\n",
       " Text(237.15, 154.49684210526317, 'gini = 0.0\\nsamples = 3\\nvalue = [3, 0]'),\n",
       " Text(251.10000000000002, 154.49684210526317, 'gini = 0.0\\nsamples = 1\\nvalue = [0, 1]'),\n",
       " Text(306.90000000000003, 200.2736842105263, 'X[13] <= 0.5\\ngini = 0.486\\nsamples = 775\\nvalue = [452, 323]'),\n",
       " Text(292.95000000000005, 188.82947368421054, 'X[308] <= 0.5\\ngini = 0.022\\nsamples = 268\\nvalue = [3, 265]'),\n",
       " Text(285.975, 177.38526315789474, 'X[265] <= 0.5\\ngini = 0.015\\nsamples = 267\\nvalue = [2, 265]'),\n",
       " Text(272.02500000000003, 165.94105263157894, 'X[25] <= 0.5\\ngini = 0.008\\nsamples = 265\\nvalue = [1, 264]'),\n",
       " Text(265.05, 154.49684210526317, 'gini = 0.0\\nsamples = 262\\nvalue = [0, 262]'),\n",
       " Text(279.0, 154.49684210526317, 'X[1] <= 35.5\\ngini = 0.444\\nsamples = 3\\nvalue = [1, 2]'),\n",
       " Text(272.02500000000003, 143.05263157894737, 'gini = 0.0\\nsamples = 1\\nvalue = [1, 0]'),\n",
       " Text(285.975, 143.05263157894737, 'gini = 0.0\\nsamples = 2\\nvalue = [0, 2]'),\n",
       " Text(299.925, 165.94105263157894, 'X[2] <= 18.5\\ngini = 0.5\\nsamples = 2\\nvalue = [1, 1]'),\n",
       " Text(292.95000000000005, 154.49684210526317, 'gini = 0.0\\nsamples = 1\\nvalue = [1, 0]'),\n",
       " Text(306.90000000000003, 154.49684210526317, 'gini = 0.0\\nsamples = 1\\nvalue = [0, 1]'),\n",
       " Text(299.925, 177.38526315789474, 'gini = 0.0\\nsamples = 1\\nvalue = [1, 0]'),\n",
       " Text(320.85, 188.82947368421054, 'X[5] <= 2.5\\ngini = 0.203\\nsamples = 507\\nvalue = [449, 58]'),\n",
       " Text(313.875, 177.38526315789474, 'gini = 0.0\\nsamples = 449\\nvalue = [449, 0]'),\n",
       " Text(327.82500000000005, 177.38526315789474, 'gini = 0.0\\nsamples = 58\\nvalue = [0, 58]')]"
      ]
     },
     "execution_count": 139,
     "metadata": {},
     "output_type": "execute_result"
    },
    {
     "data": {
      "image/png": "[encoded data removed]",
      "text/plain": [
       "<Figure size 432x288 with 1 Axes>"
      ]
     },
     "metadata": {
      "needs_background": "light"
     },
     "output_type": "display_data"
    }
   ],
   "source": [
    "tree.plot_tree(clf_cart.fit(train_features,train_labels)) "
   ]
  },
  {
   "cell_type": "code",
   "execution_count": 178,
   "metadata": {},
   "outputs": [
    {
     "name": "stdout",
     "output_type": "stream",
     "text": [
      "Accuracy: 0.9007074279939363\n",
      "Recall: 0.0\n"
     ]
    }
   ],
   "source": [
    "from sklearn.neural_network import MLPClassifier\n",
    "#Construct ANN model\n",
    "clf_ann = MLPClassifier(solver='adam', alpha=1e-5, hidden_layer_sizes=(4, 2), random_state=1) #Choose adam because this dataset is large enough\n",
    "clf_ann.fit(train_features,train_labels)\n",
    "#Prediction result of training set\n",
    "train_lable_pred_ann = clf_ann.predict(train_features)\n",
    "# Model Accuracy: how many clinets were predicted correctly\n",
    "print(\"Accuracy:\",metrics.accuracy_score(train_labels, train_lable_pred_ann))\n",
    "print(\"Recall:\",metrics.recall_score(train_labels, train_lable_pred_ann))"
   ]
  },
  {
   "cell_type": "code",
   "execution_count": 184,
   "metadata": {},
   "outputs": [
    {
     "name": "stdout",
     "output_type": "stream",
     "text": [
      "Accuracy: 0.9121212121212121\n",
      "Recall: 0.0\n"
     ]
    }
   ],
   "source": [
    "#Predict on testing set\n",
    "pred_ann = clf_ann.predict(test_features)\n",
    "# Overall Accuracy\n",
    "print(\"Accuracy:\",metrics.accuracy_score(test_labels, pred_ann))\n",
    "print(\"Recall:\",metrics.recall_score(test_labels, pred_ann))"
   ]
  }
 ],
 "metadata": {
  "kernelspec": {
   "display_name": "Python 3",
   "language": "python",
   "name": "python3"
  },
  "language_info": {
   "codemirror_mode": {
    "name": "ipython",
    "version": 3
   },
   "file_extension": ".py",
   "mimetype": "text/x-python",
   "name": "python",
   "nbconvert_exporter": "python",
   "pygments_lexer": "ipython3",
   "version": "3.7.4"
  }
 },
 "nbformat": 4,
 "nbformat_minor": 2
}
